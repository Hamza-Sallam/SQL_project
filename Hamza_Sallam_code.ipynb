{
 "cells": [
  {
   "attachments": {},
   "cell_type": "markdown",
   "metadata": {},
   "source": [
    "                                                    mysql server connection"
   ]
  },
  {
   "cell_type": "code",
   "execution_count": 2,
   "metadata": {},
   "outputs": [],
   "source": [
    "import pymysql.cursors\n",
    "from IPython.display import clear_output # to clear output of the notebook for better ui\n",
    "\n",
    "\n",
    "# password value will be removed , enter your own mysql server password to test the code\n",
    "db =pymysql.connect(host='localhost',user='root',password='',\n",
    "cursorclass=pymysql.cursors.DictCursor)"
   ]
  },
  {
   "attachments": {},
   "cell_type": "markdown",
   "metadata": {},
   "source": [
    "                                                    Arrays for each table's records"
   ]
  },
  {
   "cell_type": "code",
   "execution_count": 3,
   "metadata": {},
   "outputs": [],
   "source": [
    "auhtors=[\n",
    "    (1,'jake paul','j@net-22330','PHD in science fiction litruture'),\n",
    "    (2,'sara jay','ss@gmail-4566','a noble winner writer'),\n",
    "    (3,'andrew tate','andrew@lo-andrewT.com','professional heart doctor'),\n",
    "    (4,'hamid han','hamid@dr- Drhamid.net','PHD in science'),\n",
    "    (5,'ahmed tawfiq','23113232','owner of apple company')\n",
    "]\n",
    "\n",
    "users=[\n",
    "    (12,'Hamza Sallam','hamza@gmail'),\n",
    "    (13,'Yaman Arar','yaman@net'),\n",
    "    (14,'Mhd Khaifa','mhd@root'),\n",
    "    (15,'James Bond','james123@apple'),\n",
    "    (16,'Lucy Waine','waine@tech')\n",
    "]\n",
    "\n",
    "users_tel=[\n",
    "    (12,'123132'),\n",
    "    (13,'112442'),\n",
    "    (14,'54353'),\n",
    "    (15,'454342'),\n",
    "    (12,'234567')\n",
    "]\n",
    "\n",
    "advertises=[\n",
    "    (101,'apple','technology'),\n",
    "    (102,'nike','fitness'),\n",
    "    (103,'wego','travel'),\n",
    "    (104,'safari','education'),\n",
    "    (105,'nectar','health')\n",
    "]\n",
    "\n",
    "articles=[\n",
    "    (22,'Ice and fire','2021-3-12','nature',1,104),\n",
    "    (23,'beuty of Rome city','2019-12-12','travel',2,103),\n",
    "    (24,'Science and life, How to be a scientest','2021-4-11','science',4,104),\n",
    "    (25,'GPU vs CPU','2021-01-11','technology',5,105),\n",
    "    (26,'How to eat junk food and stay healthy','2019-3-12','health and diet',3,102)\n",
    "]\n",
    "\n",
    "readsR=[\n",
    "    (12,22,2.5),\n",
    "    (12,23,1.5),\n",
    "    (13,22,5.5),\n",
    "    (14,23,2.5),\n",
    "    (15,26,1.5),\n",
    "    (16,22,2.2),\n",
    "    (15,23,0.5)\n",
    "]\n"
   ]
  },
  {
   "attachments": {},
   "cell_type": "markdown",
   "metadata": {},
   "source": [
    "                                            Creation and population of the Tables\n"
   ]
  },
  {
   "cell_type": "code",
   "execution_count": 4,
   "metadata": {},
   "outputs": [],
   "source": [
    "\n",
    "with db.cursor() as c: \n",
    "    try:\n",
    "        c.execute(\"USE NEWSPAPER\")\n",
    "    except pymysql.Error:    \n",
    "        c.execute(\"CREATE DATABASE NEWSPAPER;\")\n",
    "        c.execute(\"USE NEWSPAPER;\")\n",
    "    #author table   \n",
    "        c.execute(\"\"\"CREATE TABLE author(\n",
    "            author_id INT, \n",
    "            name VARCHAR(45),\n",
    "            contact VARCHAR(45),\n",
    "            bio VARCHAR(45),\n",
    "            PRIMARY KEY(author_id)\n",
    "        );\"\"\")\n",
    "    # user table\n",
    "        c.execute(\"\"\"CREATE TABLE user(\n",
    "        user_id INT,\n",
    "        name VARCHAR(45),\n",
    "        email VARCHAR(45),\n",
    "        PRIMARY KEY(user_id)        \n",
    "        );\"\"\") \n",
    "    #user-telephone table\n",
    "        c.execute(\"\"\"CREATE TABLE user_tel( \n",
    "        user_id INT,\n",
    "        telephone VARCHAR(45),\n",
    "        PRIMARY KEY(user_id,telephone),\n",
    "        FOREIGN KEY(user_id) REFERENCES user(user_id)\n",
    "        );\"\"\") \n",
    "    #advertise table:\n",
    "        c.execute(\"\"\"CREATE TABLE advertise(\n",
    "        Ad_id INT,\n",
    "        company VARCHAR(45),\n",
    "        type VARCHAR(45),\n",
    "        PRIMARY KEY(Ad_id)        \n",
    "        );\"\"\") \n",
    "    #article table\n",
    "        c.execute(\"\"\"CREATE TABLE article(\n",
    "        article_id INT, \n",
    "        title VARCHAR(45),\n",
    "        publication_date DATE,\n",
    "        category VARCHAR(45),\n",
    "        author_id INT,\n",
    "        AD_id INT, \n",
    "        PRIMARY KEY(article_id),\n",
    "        FOREIGN KEY(author_id) REFERENCES author(author_id),\n",
    "        FOREIGN KEY(AD_id) REFERENCES advertise(Ad_id)\n",
    "        );\"\"\")\n",
    "    #READS table:\n",
    "        c.execute(\"\"\"CREATE TABLE read_s(\n",
    "        user_id INT,\n",
    "        article_id INT,\n",
    "        hours_spent FLOAT,\n",
    "        PRIMARY KEY(user_id,article_id),\n",
    "        FOREIGN KEY(user_id) REFERENCES user(user_id),\n",
    "        FOREIGN KEY(article_id) REFERENCES article(article_id)        \n",
    "        );\"\"\")\n",
    "#****************************************Populate the table using the records array*********************************************\n",
    "        c.executemany(\"insert into author values(%s,%s,%s,%s);\",auhtors)\n",
    "        c.executemany(\"insert into user values(%s,%s,%s);\",users)\n",
    "        c.executemany(\"insert into user_tel values(%s,%s);\",users_tel)\n",
    "        c.executemany(\"insert into advertise values(%s,%s,%s);\",advertises)\n",
    "        c.executemany(\"insert into article values(%s,%s,%s,%s,%s,%s);\",articles)\n",
    "        c.executemany(\"insert into read_s values(%s,%s,%s);\",readsR)\n",
    "        db.commit()  #commit the insertion "
   ]
  },
  {
   "attachments": {},
   "cell_type": "markdown",
   "metadata": {},
   "source": [
    "                                helper function to check if table asked from user exist or not"
   ]
  },
  {
   "cell_type": "code",
   "execution_count": 5,
   "metadata": {},
   "outputs": [],
   "source": [
    "def tableExist(table):\n",
    "    #list of the tables of the database\n",
    "    tables=['author','article','user','advertise','read_s','user_tel']\n",
    "    if table in tables:\n",
    "        return True\n",
    "    else:\n",
    "        return False"
   ]
  },
  {
   "attachments": {},
   "cell_type": "markdown",
   "metadata": {},
   "source": [
    "                                        helper method to display tables in a good looking way  "
   ]
  },
  {
   "cell_type": "code",
   "execution_count": 6,
   "metadata": {},
   "outputs": [],
   "source": [
    "def print_table(table):\n",
    "  # Get the list of keys for the columns\n",
    "  keys = table[0].keys()\n",
    "\n",
    "  # Find the longest value for each key\n",
    "  column_widths = []\n",
    "  for key in keys:\n",
    "    max_length = max([len(str(d[key])) for d in table])\n",
    "    column_widths.append(max(len(key), max_length))\n",
    "  \n",
    "  # Print the table header\n",
    "  header = \"|\"\n",
    "  for i, key in enumerate(keys):\n",
    "    header += \" \" + key.upper().ljust(column_widths[i]) + \" |\"\n",
    "  print(header)\n",
    "  print(\"-\" * len(header))\n",
    "  \n",
    "  # Print the table rows\n",
    "  for t in table:\n",
    "    row = \"|\"\n",
    "    for i, key in enumerate(keys):\n",
    "      row += \" \" + str(t[key]).ljust(column_widths[i]) + \" |\"\n",
    "    print(row)\n"
   ]
  },
  {
   "attachments": {},
   "cell_type": "markdown",
   "metadata": {},
   "source": [
    "                                    helper method to assign an array of attributes of asked table"
   ]
  },
  {
   "cell_type": "code",
   "execution_count": 7,
   "metadata": {},
   "outputs": [],
   "source": [
    "def attributesOF(table):\n",
    "    tables=['author','article','user','advertise','read_s','user_tel']\n",
    "    if table == tables[0]:\n",
    "        attrs=['author_id','name','contact','bio']\n",
    "    if table == tables[1]:\n",
    "        attrs=['article_id','title','publication_date','category','author_id','AD_id']    \n",
    "    if table == tables[2]:\n",
    "        attrs=['user_id','name','email']  \n",
    "    if table == tables[3]:\n",
    "        attrs=['Ad_id','company','type']  \n",
    "    if table == tables[4]:\n",
    "        attrs=['user_id','article_id','hours_spent']\n",
    "    if table == tables[5]:\n",
    "        attrs=['user_id','telephone']\n",
    "    return attrs "
   ]
  },
  {
   "attachments": {},
   "cell_type": "markdown",
   "metadata": {},
   "source": [
    "                                            a function to display records"
   ]
  },
  {
   "cell_type": "code",
   "execution_count": 8,
   "metadata": {},
   "outputs": [],
   "source": [
    "def showRecords():\n",
    "    c = db.cursor()\n",
    "    table=input(\"enter the table you want to see: press 'e' to exit\")\n",
    "    while True:\n",
    "        if tableExist(table):\n",
    "            command=f\"select * from {table};\"\n",
    "            break\n",
    "        if table == 'e':\n",
    "            return\n",
    "        table=input(\"table not found, try again: press 'e' to exit\")\n",
    "    c.execute(command)\n",
    "    # call the method to display the table\n",
    "    print_table(c.fetchall())\n",
    "    \n",
    "    input(f\" {table} table displayed ... press enter to go back to main menu\")    \n",
    "\n",
    "    "
   ]
  },
  {
   "attachments": {},
   "cell_type": "markdown",
   "metadata": {},
   "source": [
    "                                        a function to add records from user's input "
   ]
  },
  {
   "cell_type": "code",
   "execution_count": 9,
   "metadata": {},
   "outputs": [],
   "source": [
    "def addRecords():\n",
    "    table= input(\"enter the table you want to add a record to: press 'e' to exit\\n\")\n",
    "    while True:\n",
    "        if tableExist(table):\n",
    "            sqlcommand=f\"insert into {table} values(\"\n",
    "            break\n",
    "        if table == 'e':\n",
    "            return\n",
    "        table=input(\"table not found, try again: press 'e' to exit\")\n",
    "    #call attributesOf to get the attributs of asked table\n",
    "    attrs= attributesOF(table)\n",
    "    for attr in attrs:\n",
    "        value= input(f\"Enter {attr}\")\n",
    "        sqlcommand+=f\"'{value}',\"\n",
    "\n",
    "    #delete the extra comma \n",
    "    sqlcommand = f\"{sqlcommand[:-1]});\"\n",
    "    try:\n",
    "        db.cursor().execute(sqlcommand)\n",
    "        print(\"the record is added successfully\")\n",
    "        db.commit()\n",
    "    except pymysql.Error as err:\n",
    "        print(err)        \n",
    "    input(f\"you successfully added a new record to {table} table... press enter to go back to main menu\")    \n",
    "\n"
   ]
  },
  {
   "attachments": {},
   "cell_type": "markdown",
   "metadata": {},
   "source": [
    "                                                    Complex SQL commands Section"
   ]
  },
  {
   "attachments": {},
   "cell_type": "markdown",
   "metadata": {},
   "source": [
    "a function that execute complex sql command no 1 : checks the author's name of an article published in a certin year"
   ]
  },
  {
   "cell_type": "code",
   "execution_count": 10,
   "metadata": {},
   "outputs": [],
   "source": [
    "def checkAuthorsName():\n",
    "    c= db.cursor()\n",
    "    year = input(\"enter the year\")\n",
    "    try:\n",
    "        c.execute(f\"\"\" \n",
    "        SELECT author.name FROM article\n",
    "        INNER JOIN author\n",
    "        ON author.author_id = article.author_id\n",
    "        WHERE YEAR(article.publication_date) = '{year}'\n",
    "        ;\"\"\")\n",
    "        print_table(c.fetchall())\n",
    "    except pymysql.Error as err:\n",
    "        print(f\" incorrect input for year, please try again\\n{err}\")"
   ]
  },
  {
   "attachments": {},
   "cell_type": "markdown",
   "metadata": {},
   "source": [
    "a function that execute complex sql command no 2: show adverisment info of the article"
   ]
  },
  {
   "cell_type": "code",
   "execution_count": 11,
   "metadata": {},
   "outputs": [],
   "source": [
    "def checkAdInfo():\n",
    "    c= db.cursor()\n",
    "    article=input(\"enter article id: \")\n",
    "    try:\n",
    "        c.execute(f\"\"\"\n",
    "        SELECT advertise.* FROM advertise \n",
    "        INNER JOIN article\n",
    "        ON advertise.Ad_id = article.Ad_id\n",
    "        ;\"\"\")\n",
    "        print_table(c.fetchall())\n",
    "    except pymysql.Error as err:\n",
    "        print(\"incorrect article id , please try again\\n err\")      "
   ]
  },
  {
   "attachments": {},
   "cell_type": "markdown",
   "metadata": {},
   "source": [
    "a function that execute complex sql command no 3 : print article info and author's name which users spent more than a given hours on it"
   ]
  },
  {
   "cell_type": "code",
   "execution_count": 12,
   "metadata": {},
   "outputs": [],
   "source": [
    "def ArticleInfo():\n",
    "    c=db.cursor()\n",
    "    hours=input(\"enter number of hours:  \")\n",
    "    try:\n",
    "        c.execute(f\"\"\"\n",
    "        SELECT article.title, article.publication_date,article.category,author.name as \"author's_name\"  FROM article\n",
    "        INNER JOIN read_s\n",
    "        ON article.article_id = read_s.article_id\n",
    "        INNER JOIN author\n",
    "        ON article.author_id=author.author_id\n",
    "        WHERE read_s.hours_spent >= {hours}\n",
    "        ;\"\"\")\n",
    "        print_table(c.fetchall())#print the query\n",
    "\n",
    "    except pymysql.Error as err:\n",
    "        print(f\"invalid input please try again\\n{err}\")   "
   ]
  },
  {
   "cell_type": "markdown",
   "metadata": {},
   "source": [
    "a function to let the user enter the complex sql command himself"
   ]
  },
  {
   "cell_type": "code",
   "execution_count": 13,
   "metadata": {},
   "outputs": [],
   "source": [
    "def CustomSqlStatment():\n",
    "    c=db.cursor()\n",
    "    command = input(\"enter your own sql command: \\n->:\")\n",
    "    try:\n",
    "        c.execute(command)\n",
    "        print_table(c.fetchall())\n",
    "    except pymysql.Error as err:\n",
    "        print(f\"the sql command is wrong , please write it correctly\\n{err}\")"
   ]
  },
  {
   "attachments": {},
   "cell_type": "markdown",
   "metadata": {},
   "source": [
    "function where the user choose which complex sql statment to use"
   ]
  },
  {
   "cell_type": "code",
   "execution_count": 14,
   "metadata": {},
   "outputs": [],
   "source": [
    "def chooseComplexSql():\n",
    "    while True:\n",
    "        clear_output()\n",
    "        options=['1','2','3','4','5']\n",
    "        print(\"\"\"choose a command to execute:\\n\\n\n",
    "        1-check the author's name of an article published in a certin year\\n\n",
    "        2- show adverisment info of the article\\n\n",
    "        3-print article info and author's name which users spent more than a given hours on it\\n\n",
    "        4- write your own sql statment\\n\n",
    "        5- Exit\\n \n",
    "        \"\"\")\n",
    "        option = input(\"answer: \")\n",
    "        if option not in options:\n",
    "            option =input(\"invalid option, try again\")\n",
    "        if option ==\"1\":\n",
    "            checkAuthorsName()\n",
    "            break\n",
    "        if option == \"2\":\n",
    "            checkAdInfo() \n",
    "            break\n",
    "        if option ==\"3\": \n",
    "            ArticleInfo()\n",
    "            break\n",
    "        if option ==\"4\": \n",
    "            CustomSqlStatment()\n",
    "            break\n",
    "        if option ==\"5\":\n",
    "            return\n",
    "    input(f\"you successfully executed a complex sql command,..press enter to go back to main menu\")        "
   ]
  },
  {
   "attachments": {},
   "cell_type": "markdown",
   "metadata": {},
   "source": [
    "                            Additional functionality (BONUS):  a function to delete records from a table"
   ]
  },
  {
   "cell_type": "code",
   "execution_count": 15,
   "metadata": {},
   "outputs": [],
   "source": [
    "def deleteRecords():\n",
    "    c=db.cursor()\n",
    "    table=input(\"Enter table name you want to delete from: press 'e' to exit\")\n",
    "    while True:\n",
    "        if(tableExist(table)):\n",
    "            command  = f'delete from {table} where '\n",
    "            break\n",
    "        if table == 'e': #if user clicks 'e' exit the function\n",
    "            return\n",
    "        table=input(\"incorrect table name, please try again\")\n",
    "    # to delete from a many-to-many relation , the composite primary keys must be asked\n",
    "    if table == 'read_s' or table== 'user_tel':\n",
    "        id1=attributesOF(table)[0]\n",
    "        id2=attributesOF(table)[1]\n",
    "        Id1selected= input(f\"enter {id1}\")\n",
    "        Id2selected= input(f\"enter {id2}\")\n",
    "        command+=f\"{id1} = {Id1selected} and {id2} = {Id2selected};\"    \n",
    "    else:    \n",
    "    #get the id of the table by calling attributseOF method and getting the first attribute which is the id\n",
    "        id=attributesOF(table)[0]\n",
    "        Idselected= input(f\"enter {id} to delete: \")\n",
    "        command+=f\"{id} = {Idselected};\"\n",
    "    try:\n",
    "        c.execute(command)\n",
    "        print(f\"successfully deleted a record from the {table} table \")\n",
    "        db.commit()\n",
    "    except pymysql.Error as err:\n",
    "        print(f\"no id is found , please try again\\n{err}\")\n",
    "\n",
    "    input(\"you successfully asked to delete a record... press enter to go back to main menu\")    \n",
    "\n"
   ]
  },
  {
   "attachments": {},
   "cell_type": "markdown",
   "metadata": {},
   "source": [
    "                                                    main method : "
   ]
  },
  {
   "cell_type": "code",
   "execution_count": 16,
   "metadata": {},
   "outputs": [],
   "source": [
    "def main():\n",
    "    answers =['a','b','c','d','e'] #options user choose to apply functions\n",
    "    db.commit() #commit any changes during the run\n",
    "    while True:\n",
    "        clear_output() # clear the output when user goes back to main menu\n",
    "        print(\"\"\" WELCOME to the Istanbul post DataBase\\n please choose an option to apply functions:\\n\n",
    "    a- show records of a table\n",
    "    b- add records to a table\n",
    "    c- apply complex queries\n",
    "    d- delete a record from a table\n",
    "    e- exit\n",
    "    \"\"\")\n",
    "        answer = input(\"answer:\")\n",
    "        if answer not in answers:\n",
    "            print(\"invalid option\")\n",
    "            answer = input(\"invalid  option, try again\")\n",
    "        if answer ==\"a\":\n",
    "            showRecords()\n",
    "        if answer == \"b\":\n",
    "            addRecords()\n",
    "        if answer ==\"c\":\n",
    "            chooseComplexSql()\n",
    "        if answer ==\"d\":\n",
    "            deleteRecords()    \n",
    "        if answer ==\"e\":\n",
    "            break               \n"
   ]
  },
  {
   "cell_type": "markdown",
   "metadata": {},
   "source": [
    "start the loop "
   ]
  },
  {
   "cell_type": "markdown",
   "metadata": {},
   "source": [
    "start the loop "
   ]
  },
  {
   "cell_type": "code",
   "execution_count": 17,
   "metadata": {},
   "outputs": [
    {
     "name": "stdout",
     "output_type": "stream",
     "text": [
      " WELCOME to the Istanbul post DataBase\n",
      " please choose an option to apply functions:\n",
      "\n",
      "    a- show records of a table\n",
      "    b- add records to a table\n",
      "    c- apply complex queries\n",
      "    d- delete a record from a table\n",
      "    e- exit\n",
      "    \n"
     ]
    }
   ],
   "source": [
    "main()"
   ]
  },
  {
   "attachments": {},
   "cell_type": "markdown",
   "metadata": {},
   "source": []
  }
 ],
 "metadata": {
  "kernelspec": {
   "display_name": "Python 3",
   "language": "python",
   "name": "python3"
  },
  "language_info": {
   "codemirror_mode": {
    "name": "ipython",
    "version": 3
   },
   "file_extension": ".py",
   "mimetype": "text/x-python",
   "name": "python",
   "nbconvert_exporter": "python",
   "pygments_lexer": "ipython3",
   "version": "3.10.6 (tags/v3.10.6:9c7b4bd, Aug  1 2022, 21:53:49) [MSC v.1932 64 bit (AMD64)]"
  },
  "orig_nbformat": 4,
  "vscode": {
   "interpreter": {
    "hash": "ffb10bb2cf72a07c39ab921b5714bfb99e8fea6736ce31b95842d9de8391fdf0"
   }
  }
 },
 "nbformat": 4,
 "nbformat_minor": 2
}
